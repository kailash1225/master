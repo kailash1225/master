{
  "nbformat": 4,
  "nbformat_minor": 0,
  "metadata": {
    "colab": {
      "provenance": []
    },
    "kernelspec": {
      "name": "python3",
      "display_name": "Python 3"
    },
    "language_info": {
      "name": "python"
    }
  },
  "cells": [
    {
      "cell_type": "markdown",
      "source": [
        "# ***Objective***\n",
        "    To develop a predictive model for early detection of cancer based on patient demographic data, medical history, and biomarker analysis, aiming to improve early diagnosis rates and personalized treatment plans. The model will utilize advanced machine learning algorithms to analyze patterns and correlations in large datasets, with the goal of identifying individuals at high risk for specific types of cancer before symptoms arise. The outcomes of this model will be validated through clinical trials and real-world data to ensure accuracy, reliability, and applicability in diverse healthcare settings.\n"
      ],
      "metadata": {
        "id": "MkpWeVbfMNcf"
      }
    },
    {
      "cell_type": "markdown",
      "source": [
        "# **Data Source**\n",
        "Patient Demographics:\n",
        "*    Age\n",
        "*   gender\n",
        "*   ethnicity\n",
        "*   socioeconomic status\n",
        "\n",
        "Medical History: Family history of cancer, previous diagnoses, comorbidities.\n",
        "\n",
        "*   Family history of cancer\n",
        "*   previous diagnoses\n",
        "*   comorbiditie\n",
        "\n",
        "Lifestyle Factors:\n",
        "*   Smoking status\n",
        "*   alcohol consumption\n",
        "*   physical activity & diet\n",
        "\n",
        "Clinical Data:\n",
        "*   Tumor size\n",
        "*   location and stage\n",
        "*   grade, and histological type.\n",
        "\n",
        "Laboratory Results:\n",
        "*   Blood tests, biomarker levels\n",
        "*   Ex:PSA levels for prostate cancer, HER2 status for breast cancer\n",
        "\n",
        "\n",
        "Imaging Data:\n",
        "*   MRI, CT scans, mammograms\n",
        "\n",
        "\n",
        "\n",
        "Genetic Information: Genetic mutations (e.g., BRCA1/BRCA2 for breast cancer), genetic predisposition.\n",
        "\n",
        "\n",
        "*   Genetic mutations\n",
        "*   genetic predisposition.\n",
        "(Ex:BRCA1/BRCA2 for breast cancer)\n"
      ],
      "metadata": {
        "id": "IrzVQ0HPOJ5F"
      }
    },
    {
      "cell_type": "code",
      "execution_count": null,
      "metadata": {
        "id": "Txo5soI2KjZu"
      },
      "outputs": [],
      "source": [
        "# Step 1 : import library\n",
        "import pandas as pd"
      ]
    },
    {
      "cell_type": "markdown",
      "source": [
        "# **Import Data**"
      ],
      "metadata": {
        "id": "zNQQ6KXjRa8y"
      }
    },
    {
      "cell_type": "code",
      "source": [
        "# Step 2 : import data\n",
        "cancer = pd.read_csv('https://github.com/YBIFoundation/Dataset/raw/main/Cancer.csv')"
      ],
      "metadata": {
        "id": "nlEjXhB0K3uB"
      },
      "execution_count": null,
      "outputs": []
    },
    {
      "cell_type": "code",
      "source": [
        "cancer.head()"
      ],
      "metadata": {
        "colab": {
          "base_uri": "https://localhost:8080/",
          "height": 273
        },
        "id": "JWSFPYSAK6Bb",
        "outputId": "40a9ed68-ce3b-4d0b-cf97-266dc8cd2c0d"
      },
      "execution_count": null,
      "outputs": [
        {
          "output_type": "execute_result",
          "data": {
            "text/plain": [
              "         id diagnosis  radius_mean  texture_mean  perimeter_mean  area_mean  \\\n",
              "0    842302         M        17.99         10.38          122.80     1001.0   \n",
              "1    842517         M        20.57         17.77          132.90     1326.0   \n",
              "2  84300903         M        19.69         21.25          130.00     1203.0   \n",
              "3  84348301         M        11.42         20.38           77.58      386.1   \n",
              "4  84358402         M        20.29         14.34          135.10     1297.0   \n",
              "\n",
              "   smoothness_mean  compactness_mean  concavity_mean  concave points_mean  \\\n",
              "0          0.11840           0.27760          0.3001              0.14710   \n",
              "1          0.08474           0.07864          0.0869              0.07017   \n",
              "2          0.10960           0.15990          0.1974              0.12790   \n",
              "3          0.14250           0.28390          0.2414              0.10520   \n",
              "4          0.10030           0.13280          0.1980              0.10430   \n",
              "\n",
              "   ...  texture_worst  perimeter_worst  area_worst  smoothness_worst  \\\n",
              "0  ...          17.33           184.60      2019.0            0.1622   \n",
              "1  ...          23.41           158.80      1956.0            0.1238   \n",
              "2  ...          25.53           152.50      1709.0            0.1444   \n",
              "3  ...          26.50            98.87       567.7            0.2098   \n",
              "4  ...          16.67           152.20      1575.0            0.1374   \n",
              "\n",
              "   compactness_worst  concavity_worst  concave points_worst  symmetry_worst  \\\n",
              "0             0.6656           0.7119                0.2654          0.4601   \n",
              "1             0.1866           0.2416                0.1860          0.2750   \n",
              "2             0.4245           0.4504                0.2430          0.3613   \n",
              "3             0.8663           0.6869                0.2575          0.6638   \n",
              "4             0.2050           0.4000                0.1625          0.2364   \n",
              "\n",
              "   fractal_dimension_worst  Unnamed: 32  \n",
              "0                  0.11890          NaN  \n",
              "1                  0.08902          NaN  \n",
              "2                  0.08758          NaN  \n",
              "3                  0.17300          NaN  \n",
              "4                  0.07678          NaN  \n",
              "\n",
              "[5 rows x 33 columns]"
            ],
            "text/html": [
              "\n",
              "  <div id=\"df-88ad4495-ddb1-4ea5-acfc-9664176de286\" class=\"colab-df-container\">\n",
              "    <div>\n",
              "<style scoped>\n",
              "    .dataframe tbody tr th:only-of-type {\n",
              "        vertical-align: middle;\n",
              "    }\n",
              "\n",
              "    .dataframe tbody tr th {\n",
              "        vertical-align: top;\n",
              "    }\n",
              "\n",
              "    .dataframe thead th {\n",
              "        text-align: right;\n",
              "    }\n",
              "</style>\n",
              "<table border=\"1\" class=\"dataframe\">\n",
              "  <thead>\n",
              "    <tr style=\"text-align: right;\">\n",
              "      <th></th>\n",
              "      <th>id</th>\n",
              "      <th>diagnosis</th>\n",
              "      <th>radius_mean</th>\n",
              "      <th>texture_mean</th>\n",
              "      <th>perimeter_mean</th>\n",
              "      <th>area_mean</th>\n",
              "      <th>smoothness_mean</th>\n",
              "      <th>compactness_mean</th>\n",
              "      <th>concavity_mean</th>\n",
              "      <th>concave points_mean</th>\n",
              "      <th>...</th>\n",
              "      <th>texture_worst</th>\n",
              "      <th>perimeter_worst</th>\n",
              "      <th>area_worst</th>\n",
              "      <th>smoothness_worst</th>\n",
              "      <th>compactness_worst</th>\n",
              "      <th>concavity_worst</th>\n",
              "      <th>concave points_worst</th>\n",
              "      <th>symmetry_worst</th>\n",
              "      <th>fractal_dimension_worst</th>\n",
              "      <th>Unnamed: 32</th>\n",
              "    </tr>\n",
              "  </thead>\n",
              "  <tbody>\n",
              "    <tr>\n",
              "      <th>0</th>\n",
              "      <td>842302</td>\n",
              "      <td>M</td>\n",
              "      <td>17.99</td>\n",
              "      <td>10.38</td>\n",
              "      <td>122.80</td>\n",
              "      <td>1001.0</td>\n",
              "      <td>0.11840</td>\n",
              "      <td>0.27760</td>\n",
              "      <td>0.3001</td>\n",
              "      <td>0.14710</td>\n",
              "      <td>...</td>\n",
              "      <td>17.33</td>\n",
              "      <td>184.60</td>\n",
              "      <td>2019.0</td>\n",
              "      <td>0.1622</td>\n",
              "      <td>0.6656</td>\n",
              "      <td>0.7119</td>\n",
              "      <td>0.2654</td>\n",
              "      <td>0.4601</td>\n",
              "      <td>0.11890</td>\n",
              "      <td>NaN</td>\n",
              "    </tr>\n",
              "    <tr>\n",
              "      <th>1</th>\n",
              "      <td>842517</td>\n",
              "      <td>M</td>\n",
              "      <td>20.57</td>\n",
              "      <td>17.77</td>\n",
              "      <td>132.90</td>\n",
              "      <td>1326.0</td>\n",
              "      <td>0.08474</td>\n",
              "      <td>0.07864</td>\n",
              "      <td>0.0869</td>\n",
              "      <td>0.07017</td>\n",
              "      <td>...</td>\n",
              "      <td>23.41</td>\n",
              "      <td>158.80</td>\n",
              "      <td>1956.0</td>\n",
              "      <td>0.1238</td>\n",
              "      <td>0.1866</td>\n",
              "      <td>0.2416</td>\n",
              "      <td>0.1860</td>\n",
              "      <td>0.2750</td>\n",
              "      <td>0.08902</td>\n",
              "      <td>NaN</td>\n",
              "    </tr>\n",
              "    <tr>\n",
              "      <th>2</th>\n",
              "      <td>84300903</td>\n",
              "      <td>M</td>\n",
              "      <td>19.69</td>\n",
              "      <td>21.25</td>\n",
              "      <td>130.00</td>\n",
              "      <td>1203.0</td>\n",
              "      <td>0.10960</td>\n",
              "      <td>0.15990</td>\n",
              "      <td>0.1974</td>\n",
              "      <td>0.12790</td>\n",
              "      <td>...</td>\n",
              "      <td>25.53</td>\n",
              "      <td>152.50</td>\n",
              "      <td>1709.0</td>\n",
              "      <td>0.1444</td>\n",
              "      <td>0.4245</td>\n",
              "      <td>0.4504</td>\n",
              "      <td>0.2430</td>\n",
              "      <td>0.3613</td>\n",
              "      <td>0.08758</td>\n",
              "      <td>NaN</td>\n",
              "    </tr>\n",
              "    <tr>\n",
              "      <th>3</th>\n",
              "      <td>84348301</td>\n",
              "      <td>M</td>\n",
              "      <td>11.42</td>\n",
              "      <td>20.38</td>\n",
              "      <td>77.58</td>\n",
              "      <td>386.1</td>\n",
              "      <td>0.14250</td>\n",
              "      <td>0.28390</td>\n",
              "      <td>0.2414</td>\n",
              "      <td>0.10520</td>\n",
              "      <td>...</td>\n",
              "      <td>26.50</td>\n",
              "      <td>98.87</td>\n",
              "      <td>567.7</td>\n",
              "      <td>0.2098</td>\n",
              "      <td>0.8663</td>\n",
              "      <td>0.6869</td>\n",
              "      <td>0.2575</td>\n",
              "      <td>0.6638</td>\n",
              "      <td>0.17300</td>\n",
              "      <td>NaN</td>\n",
              "    </tr>\n",
              "    <tr>\n",
              "      <th>4</th>\n",
              "      <td>84358402</td>\n",
              "      <td>M</td>\n",
              "      <td>20.29</td>\n",
              "      <td>14.34</td>\n",
              "      <td>135.10</td>\n",
              "      <td>1297.0</td>\n",
              "      <td>0.10030</td>\n",
              "      <td>0.13280</td>\n",
              "      <td>0.1980</td>\n",
              "      <td>0.10430</td>\n",
              "      <td>...</td>\n",
              "      <td>16.67</td>\n",
              "      <td>152.20</td>\n",
              "      <td>1575.0</td>\n",
              "      <td>0.1374</td>\n",
              "      <td>0.2050</td>\n",
              "      <td>0.4000</td>\n",
              "      <td>0.1625</td>\n",
              "      <td>0.2364</td>\n",
              "      <td>0.07678</td>\n",
              "      <td>NaN</td>\n",
              "    </tr>\n",
              "  </tbody>\n",
              "</table>\n",
              "<p>5 rows × 33 columns</p>\n",
              "</div>\n",
              "    <div class=\"colab-df-buttons\">\n",
              "\n",
              "  <div class=\"colab-df-container\">\n",
              "    <button class=\"colab-df-convert\" onclick=\"convertToInteractive('df-88ad4495-ddb1-4ea5-acfc-9664176de286')\"\n",
              "            title=\"Convert this dataframe to an interactive table.\"\n",
              "            style=\"display:none;\">\n",
              "\n",
              "  <svg xmlns=\"http://www.w3.org/2000/svg\" height=\"24px\" viewBox=\"0 -960 960 960\">\n",
              "    <path d=\"M120-120v-720h720v720H120Zm60-500h600v-160H180v160Zm220 220h160v-160H400v160Zm0 220h160v-160H400v160ZM180-400h160v-160H180v160Zm440 0h160v-160H620v160ZM180-180h160v-160H180v160Zm440 0h160v-160H620v160Z\"/>\n",
              "  </svg>\n",
              "    </button>\n",
              "\n",
              "  <style>\n",
              "    .colab-df-container {\n",
              "      display:flex;\n",
              "      gap: 12px;\n",
              "    }\n",
              "\n",
              "    .colab-df-convert {\n",
              "      background-color: #E8F0FE;\n",
              "      border: none;\n",
              "      border-radius: 50%;\n",
              "      cursor: pointer;\n",
              "      display: none;\n",
              "      fill: #1967D2;\n",
              "      height: 32px;\n",
              "      padding: 0 0 0 0;\n",
              "      width: 32px;\n",
              "    }\n",
              "\n",
              "    .colab-df-convert:hover {\n",
              "      background-color: #E2EBFA;\n",
              "      box-shadow: 0px 1px 2px rgba(60, 64, 67, 0.3), 0px 1px 3px 1px rgba(60, 64, 67, 0.15);\n",
              "      fill: #174EA6;\n",
              "    }\n",
              "\n",
              "    .colab-df-buttons div {\n",
              "      margin-bottom: 4px;\n",
              "    }\n",
              "\n",
              "    [theme=dark] .colab-df-convert {\n",
              "      background-color: #3B4455;\n",
              "      fill: #D2E3FC;\n",
              "    }\n",
              "\n",
              "    [theme=dark] .colab-df-convert:hover {\n",
              "      background-color: #434B5C;\n",
              "      box-shadow: 0px 1px 3px 1px rgba(0, 0, 0, 0.15);\n",
              "      filter: drop-shadow(0px 1px 2px rgba(0, 0, 0, 0.3));\n",
              "      fill: #FFFFFF;\n",
              "    }\n",
              "  </style>\n",
              "\n",
              "    <script>\n",
              "      const buttonEl =\n",
              "        document.querySelector('#df-88ad4495-ddb1-4ea5-acfc-9664176de286 button.colab-df-convert');\n",
              "      buttonEl.style.display =\n",
              "        google.colab.kernel.accessAllowed ? 'block' : 'none';\n",
              "\n",
              "      async function convertToInteractive(key) {\n",
              "        const element = document.querySelector('#df-88ad4495-ddb1-4ea5-acfc-9664176de286');\n",
              "        const dataTable =\n",
              "          await google.colab.kernel.invokeFunction('convertToInteractive',\n",
              "                                                    [key], {});\n",
              "        if (!dataTable) return;\n",
              "\n",
              "        const docLinkHtml = 'Like what you see? Visit the ' +\n",
              "          '<a target=\"_blank\" href=https://colab.research.google.com/notebooks/data_table.ipynb>data table notebook</a>'\n",
              "          + ' to learn more about interactive tables.';\n",
              "        element.innerHTML = '';\n",
              "        dataTable['output_type'] = 'display_data';\n",
              "        await google.colab.output.renderOutput(dataTable, element);\n",
              "        const docLink = document.createElement('div');\n",
              "        docLink.innerHTML = docLinkHtml;\n",
              "        element.appendChild(docLink);\n",
              "      }\n",
              "    </script>\n",
              "  </div>\n",
              "\n",
              "\n",
              "<div id=\"df-263b2bf9-0af2-4b73-8f43-fa19dc1891c1\">\n",
              "  <button class=\"colab-df-quickchart\" onclick=\"quickchart('df-263b2bf9-0af2-4b73-8f43-fa19dc1891c1')\"\n",
              "            title=\"Suggest charts\"\n",
              "            style=\"display:none;\">\n",
              "\n",
              "<svg xmlns=\"http://www.w3.org/2000/svg\" height=\"24px\"viewBox=\"0 0 24 24\"\n",
              "     width=\"24px\">\n",
              "    <g>\n",
              "        <path d=\"M19 3H5c-1.1 0-2 .9-2 2v14c0 1.1.9 2 2 2h14c1.1 0 2-.9 2-2V5c0-1.1-.9-2-2-2zM9 17H7v-7h2v7zm4 0h-2V7h2v10zm4 0h-2v-4h2v4z\"/>\n",
              "    </g>\n",
              "</svg>\n",
              "  </button>\n",
              "\n",
              "<style>\n",
              "  .colab-df-quickchart {\n",
              "      --bg-color: #E8F0FE;\n",
              "      --fill-color: #1967D2;\n",
              "      --hover-bg-color: #E2EBFA;\n",
              "      --hover-fill-color: #174EA6;\n",
              "      --disabled-fill-color: #AAA;\n",
              "      --disabled-bg-color: #DDD;\n",
              "  }\n",
              "\n",
              "  [theme=dark] .colab-df-quickchart {\n",
              "      --bg-color: #3B4455;\n",
              "      --fill-color: #D2E3FC;\n",
              "      --hover-bg-color: #434B5C;\n",
              "      --hover-fill-color: #FFFFFF;\n",
              "      --disabled-bg-color: #3B4455;\n",
              "      --disabled-fill-color: #666;\n",
              "  }\n",
              "\n",
              "  .colab-df-quickchart {\n",
              "    background-color: var(--bg-color);\n",
              "    border: none;\n",
              "    border-radius: 50%;\n",
              "    cursor: pointer;\n",
              "    display: none;\n",
              "    fill: var(--fill-color);\n",
              "    height: 32px;\n",
              "    padding: 0;\n",
              "    width: 32px;\n",
              "  }\n",
              "\n",
              "  .colab-df-quickchart:hover {\n",
              "    background-color: var(--hover-bg-color);\n",
              "    box-shadow: 0 1px 2px rgba(60, 64, 67, 0.3), 0 1px 3px 1px rgba(60, 64, 67, 0.15);\n",
              "    fill: var(--button-hover-fill-color);\n",
              "  }\n",
              "\n",
              "  .colab-df-quickchart-complete:disabled,\n",
              "  .colab-df-quickchart-complete:disabled:hover {\n",
              "    background-color: var(--disabled-bg-color);\n",
              "    fill: var(--disabled-fill-color);\n",
              "    box-shadow: none;\n",
              "  }\n",
              "\n",
              "  .colab-df-spinner {\n",
              "    border: 2px solid var(--fill-color);\n",
              "    border-color: transparent;\n",
              "    border-bottom-color: var(--fill-color);\n",
              "    animation:\n",
              "      spin 1s steps(1) infinite;\n",
              "  }\n",
              "\n",
              "  @keyframes spin {\n",
              "    0% {\n",
              "      border-color: transparent;\n",
              "      border-bottom-color: var(--fill-color);\n",
              "      border-left-color: var(--fill-color);\n",
              "    }\n",
              "    20% {\n",
              "      border-color: transparent;\n",
              "      border-left-color: var(--fill-color);\n",
              "      border-top-color: var(--fill-color);\n",
              "    }\n",
              "    30% {\n",
              "      border-color: transparent;\n",
              "      border-left-color: var(--fill-color);\n",
              "      border-top-color: var(--fill-color);\n",
              "      border-right-color: var(--fill-color);\n",
              "    }\n",
              "    40% {\n",
              "      border-color: transparent;\n",
              "      border-right-color: var(--fill-color);\n",
              "      border-top-color: var(--fill-color);\n",
              "    }\n",
              "    60% {\n",
              "      border-color: transparent;\n",
              "      border-right-color: var(--fill-color);\n",
              "    }\n",
              "    80% {\n",
              "      border-color: transparent;\n",
              "      border-right-color: var(--fill-color);\n",
              "      border-bottom-color: var(--fill-color);\n",
              "    }\n",
              "    90% {\n",
              "      border-color: transparent;\n",
              "      border-bottom-color: var(--fill-color);\n",
              "    }\n",
              "  }\n",
              "</style>\n",
              "\n",
              "  <script>\n",
              "    async function quickchart(key) {\n",
              "      const quickchartButtonEl =\n",
              "        document.querySelector('#' + key + ' button');\n",
              "      quickchartButtonEl.disabled = true;  // To prevent multiple clicks.\n",
              "      quickchartButtonEl.classList.add('colab-df-spinner');\n",
              "      try {\n",
              "        const charts = await google.colab.kernel.invokeFunction(\n",
              "            'suggestCharts', [key], {});\n",
              "      } catch (error) {\n",
              "        console.error('Error during call to suggestCharts:', error);\n",
              "      }\n",
              "      quickchartButtonEl.classList.remove('colab-df-spinner');\n",
              "      quickchartButtonEl.classList.add('colab-df-quickchart-complete');\n",
              "    }\n",
              "    (() => {\n",
              "      let quickchartButtonEl =\n",
              "        document.querySelector('#df-263b2bf9-0af2-4b73-8f43-fa19dc1891c1 button');\n",
              "      quickchartButtonEl.style.display =\n",
              "        google.colab.kernel.accessAllowed ? 'block' : 'none';\n",
              "    })();\n",
              "  </script>\n",
              "</div>\n",
              "\n",
              "    </div>\n",
              "  </div>\n"
            ],
            "application/vnd.google.colaboratory.intrinsic+json": {
              "type": "dataframe",
              "variable_name": "cancer"
            }
          },
          "metadata": {},
          "execution_count": 3
        }
      ]
    },
    {
      "cell_type": "code",
      "source": [
        "cancer.info()"
      ],
      "metadata": {
        "colab": {
          "base_uri": "https://localhost:8080/"
        },
        "id": "F3AA2HVyLCGI",
        "outputId": "921c8116-5753-40a3-91a0-5c6b3be7c62b"
      },
      "execution_count": null,
      "outputs": [
        {
          "output_type": "stream",
          "name": "stdout",
          "text": [
            "<class 'pandas.core.frame.DataFrame'>\n",
            "RangeIndex: 569 entries, 0 to 568\n",
            "Data columns (total 33 columns):\n",
            " #   Column                   Non-Null Count  Dtype  \n",
            "---  ------                   --------------  -----  \n",
            " 0   id                       569 non-null    int64  \n",
            " 1   diagnosis                569 non-null    object \n",
            " 2   radius_mean              569 non-null    float64\n",
            " 3   texture_mean             569 non-null    float64\n",
            " 4   perimeter_mean           569 non-null    float64\n",
            " 5   area_mean                569 non-null    float64\n",
            " 6   smoothness_mean          569 non-null    float64\n",
            " 7   compactness_mean         569 non-null    float64\n",
            " 8   concavity_mean           569 non-null    float64\n",
            " 9   concave points_mean      569 non-null    float64\n",
            " 10  symmetry_mean            569 non-null    float64\n",
            " 11  fractal_dimension_mean   569 non-null    float64\n",
            " 12  radius_se                569 non-null    float64\n",
            " 13  texture_se               569 non-null    float64\n",
            " 14  perimeter_se             569 non-null    float64\n",
            " 15  area_se                  569 non-null    float64\n",
            " 16  smoothness_se            569 non-null    float64\n",
            " 17  compactness_se           569 non-null    float64\n",
            " 18  concavity_se             569 non-null    float64\n",
            " 19  concave points_se        569 non-null    float64\n",
            " 20  symmetry_se              569 non-null    float64\n",
            " 21  fractal_dimension_se     569 non-null    float64\n",
            " 22  radius_worst             569 non-null    float64\n",
            " 23  texture_worst            569 non-null    float64\n",
            " 24  perimeter_worst          569 non-null    float64\n",
            " 25  area_worst               569 non-null    float64\n",
            " 26  smoothness_worst         569 non-null    float64\n",
            " 27  compactness_worst        569 non-null    float64\n",
            " 28  concavity_worst          569 non-null    float64\n",
            " 29  concave points_worst     569 non-null    float64\n",
            " 30  symmetry_worst           569 non-null    float64\n",
            " 31  fractal_dimension_worst  569 non-null    float64\n",
            " 32  Unnamed: 32              0 non-null      float64\n",
            "dtypes: float64(31), int64(1), object(1)\n",
            "memory usage: 146.8+ KB\n"
          ]
        }
      ]
    },
    {
      "cell_type": "markdown",
      "source": [
        "# **Describe Data**"
      ],
      "metadata": {
        "id": "YE6Kq_y1RjaL"
      }
    },
    {
      "cell_type": "code",
      "source": [
        "cancer.describe()"
      ],
      "metadata": {
        "colab": {
          "base_uri": "https://localhost:8080/",
          "height": 367
        },
        "id": "9OxZmVuxLFSB",
        "outputId": "12e72a32-597e-40d6-8290-85a62b6582a6"
      },
      "execution_count": null,
      "outputs": [
        {
          "output_type": "execute_result",
          "data": {
            "text/plain": [
              "                 id  radius_mean  texture_mean  perimeter_mean    area_mean  \\\n",
              "count  5.690000e+02   569.000000    569.000000      569.000000   569.000000   \n",
              "mean   3.037183e+07    14.127292     19.289649       91.969033   654.889104   \n",
              "std    1.250206e+08     3.524049      4.301036       24.298981   351.914129   \n",
              "min    8.670000e+03     6.981000      9.710000       43.790000   143.500000   \n",
              "25%    8.692180e+05    11.700000     16.170000       75.170000   420.300000   \n",
              "50%    9.060240e+05    13.370000     18.840000       86.240000   551.100000   \n",
              "75%    8.813129e+06    15.780000     21.800000      104.100000   782.700000   \n",
              "max    9.113205e+08    28.110000     39.280000      188.500000  2501.000000   \n",
              "\n",
              "       smoothness_mean  compactness_mean  concavity_mean  concave points_mean  \\\n",
              "count       569.000000        569.000000      569.000000           569.000000   \n",
              "mean          0.096360          0.104341        0.088799             0.048919   \n",
              "std           0.014064          0.052813        0.079720             0.038803   \n",
              "min           0.052630          0.019380        0.000000             0.000000   \n",
              "25%           0.086370          0.064920        0.029560             0.020310   \n",
              "50%           0.095870          0.092630        0.061540             0.033500   \n",
              "75%           0.105300          0.130400        0.130700             0.074000   \n",
              "max           0.163400          0.345400        0.426800             0.201200   \n",
              "\n",
              "       symmetry_mean  ...  texture_worst  perimeter_worst   area_worst  \\\n",
              "count     569.000000  ...     569.000000       569.000000   569.000000   \n",
              "mean        0.181162  ...      25.677223       107.261213   880.583128   \n",
              "std         0.027414  ...       6.146258        33.602542   569.356993   \n",
              "min         0.106000  ...      12.020000        50.410000   185.200000   \n",
              "25%         0.161900  ...      21.080000        84.110000   515.300000   \n",
              "50%         0.179200  ...      25.410000        97.660000   686.500000   \n",
              "75%         0.195700  ...      29.720000       125.400000  1084.000000   \n",
              "max         0.304000  ...      49.540000       251.200000  4254.000000   \n",
              "\n",
              "       smoothness_worst  compactness_worst  concavity_worst  \\\n",
              "count        569.000000         569.000000       569.000000   \n",
              "mean           0.132369           0.254265         0.272188   \n",
              "std            0.022832           0.157336         0.208624   \n",
              "min            0.071170           0.027290         0.000000   \n",
              "25%            0.116600           0.147200         0.114500   \n",
              "50%            0.131300           0.211900         0.226700   \n",
              "75%            0.146000           0.339100         0.382900   \n",
              "max            0.222600           1.058000         1.252000   \n",
              "\n",
              "       concave points_worst  symmetry_worst  fractal_dimension_worst  \\\n",
              "count            569.000000      569.000000               569.000000   \n",
              "mean               0.114606        0.290076                 0.083946   \n",
              "std                0.065732        0.061867                 0.018061   \n",
              "min                0.000000        0.156500                 0.055040   \n",
              "25%                0.064930        0.250400                 0.071460   \n",
              "50%                0.099930        0.282200                 0.080040   \n",
              "75%                0.161400        0.317900                 0.092080   \n",
              "max                0.291000        0.663800                 0.207500   \n",
              "\n",
              "       Unnamed: 32  \n",
              "count          0.0  \n",
              "mean           NaN  \n",
              "std            NaN  \n",
              "min            NaN  \n",
              "25%            NaN  \n",
              "50%            NaN  \n",
              "75%            NaN  \n",
              "max            NaN  \n",
              "\n",
              "[8 rows x 32 columns]"
            ],
            "text/html": [
              "\n",
              "  <div id=\"df-eada4fbf-fddc-40e5-8ed3-8546ef642633\" class=\"colab-df-container\">\n",
              "    <div>\n",
              "<style scoped>\n",
              "    .dataframe tbody tr th:only-of-type {\n",
              "        vertical-align: middle;\n",
              "    }\n",
              "\n",
              "    .dataframe tbody tr th {\n",
              "        vertical-align: top;\n",
              "    }\n",
              "\n",
              "    .dataframe thead th {\n",
              "        text-align: right;\n",
              "    }\n",
              "</style>\n",
              "<table border=\"1\" class=\"dataframe\">\n",
              "  <thead>\n",
              "    <tr style=\"text-align: right;\">\n",
              "      <th></th>\n",
              "      <th>id</th>\n",
              "      <th>radius_mean</th>\n",
              "      <th>texture_mean</th>\n",
              "      <th>perimeter_mean</th>\n",
              "      <th>area_mean</th>\n",
              "      <th>smoothness_mean</th>\n",
              "      <th>compactness_mean</th>\n",
              "      <th>concavity_mean</th>\n",
              "      <th>concave points_mean</th>\n",
              "      <th>symmetry_mean</th>\n",
              "      <th>...</th>\n",
              "      <th>texture_worst</th>\n",
              "      <th>perimeter_worst</th>\n",
              "      <th>area_worst</th>\n",
              "      <th>smoothness_worst</th>\n",
              "      <th>compactness_worst</th>\n",
              "      <th>concavity_worst</th>\n",
              "      <th>concave points_worst</th>\n",
              "      <th>symmetry_worst</th>\n",
              "      <th>fractal_dimension_worst</th>\n",
              "      <th>Unnamed: 32</th>\n",
              "    </tr>\n",
              "  </thead>\n",
              "  <tbody>\n",
              "    <tr>\n",
              "      <th>count</th>\n",
              "      <td>5.690000e+02</td>\n",
              "      <td>569.000000</td>\n",
              "      <td>569.000000</td>\n",
              "      <td>569.000000</td>\n",
              "      <td>569.000000</td>\n",
              "      <td>569.000000</td>\n",
              "      <td>569.000000</td>\n",
              "      <td>569.000000</td>\n",
              "      <td>569.000000</td>\n",
              "      <td>569.000000</td>\n",
              "      <td>...</td>\n",
              "      <td>569.000000</td>\n",
              "      <td>569.000000</td>\n",
              "      <td>569.000000</td>\n",
              "      <td>569.000000</td>\n",
              "      <td>569.000000</td>\n",
              "      <td>569.000000</td>\n",
              "      <td>569.000000</td>\n",
              "      <td>569.000000</td>\n",
              "      <td>569.000000</td>\n",
              "      <td>0.0</td>\n",
              "    </tr>\n",
              "    <tr>\n",
              "      <th>mean</th>\n",
              "      <td>3.037183e+07</td>\n",
              "      <td>14.127292</td>\n",
              "      <td>19.289649</td>\n",
              "      <td>91.969033</td>\n",
              "      <td>654.889104</td>\n",
              "      <td>0.096360</td>\n",
              "      <td>0.104341</td>\n",
              "      <td>0.088799</td>\n",
              "      <td>0.048919</td>\n",
              "      <td>0.181162</td>\n",
              "      <td>...</td>\n",
              "      <td>25.677223</td>\n",
              "      <td>107.261213</td>\n",
              "      <td>880.583128</td>\n",
              "      <td>0.132369</td>\n",
              "      <td>0.254265</td>\n",
              "      <td>0.272188</td>\n",
              "      <td>0.114606</td>\n",
              "      <td>0.290076</td>\n",
              "      <td>0.083946</td>\n",
              "      <td>NaN</td>\n",
              "    </tr>\n",
              "    <tr>\n",
              "      <th>std</th>\n",
              "      <td>1.250206e+08</td>\n",
              "      <td>3.524049</td>\n",
              "      <td>4.301036</td>\n",
              "      <td>24.298981</td>\n",
              "      <td>351.914129</td>\n",
              "      <td>0.014064</td>\n",
              "      <td>0.052813</td>\n",
              "      <td>0.079720</td>\n",
              "      <td>0.038803</td>\n",
              "      <td>0.027414</td>\n",
              "      <td>...</td>\n",
              "      <td>6.146258</td>\n",
              "      <td>33.602542</td>\n",
              "      <td>569.356993</td>\n",
              "      <td>0.022832</td>\n",
              "      <td>0.157336</td>\n",
              "      <td>0.208624</td>\n",
              "      <td>0.065732</td>\n",
              "      <td>0.061867</td>\n",
              "      <td>0.018061</td>\n",
              "      <td>NaN</td>\n",
              "    </tr>\n",
              "    <tr>\n",
              "      <th>min</th>\n",
              "      <td>8.670000e+03</td>\n",
              "      <td>6.981000</td>\n",
              "      <td>9.710000</td>\n",
              "      <td>43.790000</td>\n",
              "      <td>143.500000</td>\n",
              "      <td>0.052630</td>\n",
              "      <td>0.019380</td>\n",
              "      <td>0.000000</td>\n",
              "      <td>0.000000</td>\n",
              "      <td>0.106000</td>\n",
              "      <td>...</td>\n",
              "      <td>12.020000</td>\n",
              "      <td>50.410000</td>\n",
              "      <td>185.200000</td>\n",
              "      <td>0.071170</td>\n",
              "      <td>0.027290</td>\n",
              "      <td>0.000000</td>\n",
              "      <td>0.000000</td>\n",
              "      <td>0.156500</td>\n",
              "      <td>0.055040</td>\n",
              "      <td>NaN</td>\n",
              "    </tr>\n",
              "    <tr>\n",
              "      <th>25%</th>\n",
              "      <td>8.692180e+05</td>\n",
              "      <td>11.700000</td>\n",
              "      <td>16.170000</td>\n",
              "      <td>75.170000</td>\n",
              "      <td>420.300000</td>\n",
              "      <td>0.086370</td>\n",
              "      <td>0.064920</td>\n",
              "      <td>0.029560</td>\n",
              "      <td>0.020310</td>\n",
              "      <td>0.161900</td>\n",
              "      <td>...</td>\n",
              "      <td>21.080000</td>\n",
              "      <td>84.110000</td>\n",
              "      <td>515.300000</td>\n",
              "      <td>0.116600</td>\n",
              "      <td>0.147200</td>\n",
              "      <td>0.114500</td>\n",
              "      <td>0.064930</td>\n",
              "      <td>0.250400</td>\n",
              "      <td>0.071460</td>\n",
              "      <td>NaN</td>\n",
              "    </tr>\n",
              "    <tr>\n",
              "      <th>50%</th>\n",
              "      <td>9.060240e+05</td>\n",
              "      <td>13.370000</td>\n",
              "      <td>18.840000</td>\n",
              "      <td>86.240000</td>\n",
              "      <td>551.100000</td>\n",
              "      <td>0.095870</td>\n",
              "      <td>0.092630</td>\n",
              "      <td>0.061540</td>\n",
              "      <td>0.033500</td>\n",
              "      <td>0.179200</td>\n",
              "      <td>...</td>\n",
              "      <td>25.410000</td>\n",
              "      <td>97.660000</td>\n",
              "      <td>686.500000</td>\n",
              "      <td>0.131300</td>\n",
              "      <td>0.211900</td>\n",
              "      <td>0.226700</td>\n",
              "      <td>0.099930</td>\n",
              "      <td>0.282200</td>\n",
              "      <td>0.080040</td>\n",
              "      <td>NaN</td>\n",
              "    </tr>\n",
              "    <tr>\n",
              "      <th>75%</th>\n",
              "      <td>8.813129e+06</td>\n",
              "      <td>15.780000</td>\n",
              "      <td>21.800000</td>\n",
              "      <td>104.100000</td>\n",
              "      <td>782.700000</td>\n",
              "      <td>0.105300</td>\n",
              "      <td>0.130400</td>\n",
              "      <td>0.130700</td>\n",
              "      <td>0.074000</td>\n",
              "      <td>0.195700</td>\n",
              "      <td>...</td>\n",
              "      <td>29.720000</td>\n",
              "      <td>125.400000</td>\n",
              "      <td>1084.000000</td>\n",
              "      <td>0.146000</td>\n",
              "      <td>0.339100</td>\n",
              "      <td>0.382900</td>\n",
              "      <td>0.161400</td>\n",
              "      <td>0.317900</td>\n",
              "      <td>0.092080</td>\n",
              "      <td>NaN</td>\n",
              "    </tr>\n",
              "    <tr>\n",
              "      <th>max</th>\n",
              "      <td>9.113205e+08</td>\n",
              "      <td>28.110000</td>\n",
              "      <td>39.280000</td>\n",
              "      <td>188.500000</td>\n",
              "      <td>2501.000000</td>\n",
              "      <td>0.163400</td>\n",
              "      <td>0.345400</td>\n",
              "      <td>0.426800</td>\n",
              "      <td>0.201200</td>\n",
              "      <td>0.304000</td>\n",
              "      <td>...</td>\n",
              "      <td>49.540000</td>\n",
              "      <td>251.200000</td>\n",
              "      <td>4254.000000</td>\n",
              "      <td>0.222600</td>\n",
              "      <td>1.058000</td>\n",
              "      <td>1.252000</td>\n",
              "      <td>0.291000</td>\n",
              "      <td>0.663800</td>\n",
              "      <td>0.207500</td>\n",
              "      <td>NaN</td>\n",
              "    </tr>\n",
              "  </tbody>\n",
              "</table>\n",
              "<p>8 rows × 32 columns</p>\n",
              "</div>\n",
              "    <div class=\"colab-df-buttons\">\n",
              "\n",
              "  <div class=\"colab-df-container\">\n",
              "    <button class=\"colab-df-convert\" onclick=\"convertToInteractive('df-eada4fbf-fddc-40e5-8ed3-8546ef642633')\"\n",
              "            title=\"Convert this dataframe to an interactive table.\"\n",
              "            style=\"display:none;\">\n",
              "\n",
              "  <svg xmlns=\"http://www.w3.org/2000/svg\" height=\"24px\" viewBox=\"0 -960 960 960\">\n",
              "    <path d=\"M120-120v-720h720v720H120Zm60-500h600v-160H180v160Zm220 220h160v-160H400v160Zm0 220h160v-160H400v160ZM180-400h160v-160H180v160Zm440 0h160v-160H620v160ZM180-180h160v-160H180v160Zm440 0h160v-160H620v160Z\"/>\n",
              "  </svg>\n",
              "    </button>\n",
              "\n",
              "  <style>\n",
              "    .colab-df-container {\n",
              "      display:flex;\n",
              "      gap: 12px;\n",
              "    }\n",
              "\n",
              "    .colab-df-convert {\n",
              "      background-color: #E8F0FE;\n",
              "      border: none;\n",
              "      border-radius: 50%;\n",
              "      cursor: pointer;\n",
              "      display: none;\n",
              "      fill: #1967D2;\n",
              "      height: 32px;\n",
              "      padding: 0 0 0 0;\n",
              "      width: 32px;\n",
              "    }\n",
              "\n",
              "    .colab-df-convert:hover {\n",
              "      background-color: #E2EBFA;\n",
              "      box-shadow: 0px 1px 2px rgba(60, 64, 67, 0.3), 0px 1px 3px 1px rgba(60, 64, 67, 0.15);\n",
              "      fill: #174EA6;\n",
              "    }\n",
              "\n",
              "    .colab-df-buttons div {\n",
              "      margin-bottom: 4px;\n",
              "    }\n",
              "\n",
              "    [theme=dark] .colab-df-convert {\n",
              "      background-color: #3B4455;\n",
              "      fill: #D2E3FC;\n",
              "    }\n",
              "\n",
              "    [theme=dark] .colab-df-convert:hover {\n",
              "      background-color: #434B5C;\n",
              "      box-shadow: 0px 1px 3px 1px rgba(0, 0, 0, 0.15);\n",
              "      filter: drop-shadow(0px 1px 2px rgba(0, 0, 0, 0.3));\n",
              "      fill: #FFFFFF;\n",
              "    }\n",
              "  </style>\n",
              "\n",
              "    <script>\n",
              "      const buttonEl =\n",
              "        document.querySelector('#df-eada4fbf-fddc-40e5-8ed3-8546ef642633 button.colab-df-convert');\n",
              "      buttonEl.style.display =\n",
              "        google.colab.kernel.accessAllowed ? 'block' : 'none';\n",
              "\n",
              "      async function convertToInteractive(key) {\n",
              "        const element = document.querySelector('#df-eada4fbf-fddc-40e5-8ed3-8546ef642633');\n",
              "        const dataTable =\n",
              "          await google.colab.kernel.invokeFunction('convertToInteractive',\n",
              "                                                    [key], {});\n",
              "        if (!dataTable) return;\n",
              "\n",
              "        const docLinkHtml = 'Like what you see? Visit the ' +\n",
              "          '<a target=\"_blank\" href=https://colab.research.google.com/notebooks/data_table.ipynb>data table notebook</a>'\n",
              "          + ' to learn more about interactive tables.';\n",
              "        element.innerHTML = '';\n",
              "        dataTable['output_type'] = 'display_data';\n",
              "        await google.colab.output.renderOutput(dataTable, element);\n",
              "        const docLink = document.createElement('div');\n",
              "        docLink.innerHTML = docLinkHtml;\n",
              "        element.appendChild(docLink);\n",
              "      }\n",
              "    </script>\n",
              "  </div>\n",
              "\n",
              "\n",
              "<div id=\"df-a840d5fb-3fca-4ee2-89d4-adc0e022d91d\">\n",
              "  <button class=\"colab-df-quickchart\" onclick=\"quickchart('df-a840d5fb-3fca-4ee2-89d4-adc0e022d91d')\"\n",
              "            title=\"Suggest charts\"\n",
              "            style=\"display:none;\">\n",
              "\n",
              "<svg xmlns=\"http://www.w3.org/2000/svg\" height=\"24px\"viewBox=\"0 0 24 24\"\n",
              "     width=\"24px\">\n",
              "    <g>\n",
              "        <path d=\"M19 3H5c-1.1 0-2 .9-2 2v14c0 1.1.9 2 2 2h14c1.1 0 2-.9 2-2V5c0-1.1-.9-2-2-2zM9 17H7v-7h2v7zm4 0h-2V7h2v10zm4 0h-2v-4h2v4z\"/>\n",
              "    </g>\n",
              "</svg>\n",
              "  </button>\n",
              "\n",
              "<style>\n",
              "  .colab-df-quickchart {\n",
              "      --bg-color: #E8F0FE;\n",
              "      --fill-color: #1967D2;\n",
              "      --hover-bg-color: #E2EBFA;\n",
              "      --hover-fill-color: #174EA6;\n",
              "      --disabled-fill-color: #AAA;\n",
              "      --disabled-bg-color: #DDD;\n",
              "  }\n",
              "\n",
              "  [theme=dark] .colab-df-quickchart {\n",
              "      --bg-color: #3B4455;\n",
              "      --fill-color: #D2E3FC;\n",
              "      --hover-bg-color: #434B5C;\n",
              "      --hover-fill-color: #FFFFFF;\n",
              "      --disabled-bg-color: #3B4455;\n",
              "      --disabled-fill-color: #666;\n",
              "  }\n",
              "\n",
              "  .colab-df-quickchart {\n",
              "    background-color: var(--bg-color);\n",
              "    border: none;\n",
              "    border-radius: 50%;\n",
              "    cursor: pointer;\n",
              "    display: none;\n",
              "    fill: var(--fill-color);\n",
              "    height: 32px;\n",
              "    padding: 0;\n",
              "    width: 32px;\n",
              "  }\n",
              "\n",
              "  .colab-df-quickchart:hover {\n",
              "    background-color: var(--hover-bg-color);\n",
              "    box-shadow: 0 1px 2px rgba(60, 64, 67, 0.3), 0 1px 3px 1px rgba(60, 64, 67, 0.15);\n",
              "    fill: var(--button-hover-fill-color);\n",
              "  }\n",
              "\n",
              "  .colab-df-quickchart-complete:disabled,\n",
              "  .colab-df-quickchart-complete:disabled:hover {\n",
              "    background-color: var(--disabled-bg-color);\n",
              "    fill: var(--disabled-fill-color);\n",
              "    box-shadow: none;\n",
              "  }\n",
              "\n",
              "  .colab-df-spinner {\n",
              "    border: 2px solid var(--fill-color);\n",
              "    border-color: transparent;\n",
              "    border-bottom-color: var(--fill-color);\n",
              "    animation:\n",
              "      spin 1s steps(1) infinite;\n",
              "  }\n",
              "\n",
              "  @keyframes spin {\n",
              "    0% {\n",
              "      border-color: transparent;\n",
              "      border-bottom-color: var(--fill-color);\n",
              "      border-left-color: var(--fill-color);\n",
              "    }\n",
              "    20% {\n",
              "      border-color: transparent;\n",
              "      border-left-color: var(--fill-color);\n",
              "      border-top-color: var(--fill-color);\n",
              "    }\n",
              "    30% {\n",
              "      border-color: transparent;\n",
              "      border-left-color: var(--fill-color);\n",
              "      border-top-color: var(--fill-color);\n",
              "      border-right-color: var(--fill-color);\n",
              "    }\n",
              "    40% {\n",
              "      border-color: transparent;\n",
              "      border-right-color: var(--fill-color);\n",
              "      border-top-color: var(--fill-color);\n",
              "    }\n",
              "    60% {\n",
              "      border-color: transparent;\n",
              "      border-right-color: var(--fill-color);\n",
              "    }\n",
              "    80% {\n",
              "      border-color: transparent;\n",
              "      border-right-color: var(--fill-color);\n",
              "      border-bottom-color: var(--fill-color);\n",
              "    }\n",
              "    90% {\n",
              "      border-color: transparent;\n",
              "      border-bottom-color: var(--fill-color);\n",
              "    }\n",
              "  }\n",
              "</style>\n",
              "\n",
              "  <script>\n",
              "    async function quickchart(key) {\n",
              "      const quickchartButtonEl =\n",
              "        document.querySelector('#' + key + ' button');\n",
              "      quickchartButtonEl.disabled = true;  // To prevent multiple clicks.\n",
              "      quickchartButtonEl.classList.add('colab-df-spinner');\n",
              "      try {\n",
              "        const charts = await google.colab.kernel.invokeFunction(\n",
              "            'suggestCharts', [key], {});\n",
              "      } catch (error) {\n",
              "        console.error('Error during call to suggestCharts:', error);\n",
              "      }\n",
              "      quickchartButtonEl.classList.remove('colab-df-spinner');\n",
              "      quickchartButtonEl.classList.add('colab-df-quickchart-complete');\n",
              "    }\n",
              "    (() => {\n",
              "      let quickchartButtonEl =\n",
              "        document.querySelector('#df-a840d5fb-3fca-4ee2-89d4-adc0e022d91d button');\n",
              "      quickchartButtonEl.style.display =\n",
              "        google.colab.kernel.accessAllowed ? 'block' : 'none';\n",
              "    })();\n",
              "  </script>\n",
              "</div>\n",
              "\n",
              "    </div>\n",
              "  </div>\n"
            ],
            "application/vnd.google.colaboratory.intrinsic+json": {
              "type": "dataframe"
            }
          },
          "metadata": {},
          "execution_count": 5
        }
      ]
    },
    {
      "cell_type": "code",
      "source": [
        "cancer.columns"
      ],
      "metadata": {
        "colab": {
          "base_uri": "https://localhost:8080/"
        },
        "id": "n2TTzYFbLH59",
        "outputId": "f776d0bb-3698-4160-e9d1-87f9b980c4e5"
      },
      "execution_count": null,
      "outputs": [
        {
          "output_type": "execute_result",
          "data": {
            "text/plain": [
              "Index(['id', 'diagnosis', 'radius_mean', 'texture_mean', 'perimeter_mean',\n",
              "       'area_mean', 'smoothness_mean', 'compactness_mean', 'concavity_mean',\n",
              "       'concave points_mean', 'symmetry_mean', 'fractal_dimension_mean',\n",
              "       'radius_se', 'texture_se', 'perimeter_se', 'area_se', 'smoothness_se',\n",
              "       'compactness_se', 'concavity_se', 'concave points_se', 'symmetry_se',\n",
              "       'fractal_dimension_se', 'radius_worst', 'texture_worst',\n",
              "       'perimeter_worst', 'area_worst', 'smoothness_worst',\n",
              "       'compactness_worst', 'concavity_worst', 'concave points_worst',\n",
              "       'symmetry_worst', 'fractal_dimension_worst', 'Unnamed: 32'],\n",
              "      dtype='object')"
            ]
          },
          "metadata": {},
          "execution_count": 6
        }
      ]
    },
    {
      "cell_type": "markdown",
      "source": [
        "![1-s2.0-S2666285X22000413-gr3.jpg](data:image/jpeg;base64,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)"
      ],
      "metadata": {
        "id": "Xr7txprJSByn"
      }
    },
    {
      "cell_type": "markdown",
      "source": [
        "# Data Preprocessing\n",
        "Cleaning: Handle missing values, outliers, and inconsistencies.\n",
        "Normalization: Scale features to ensure comparability.\n",
        "Feature Engineering: Create new features from existing data that might be relevant for prediction."
      ],
      "metadata": {
        "id": "0dYk6hH1S3Ka"
      }
    },
    {
      "cell_type": "markdown",
      "source": [
        "# ***Target Variable (y) and Feature Variables (X)***"
      ],
      "metadata": {
        "id": "QCeM7p4GTBLq"
      }
    },
    {
      "cell_type": "code",
      "source": [
        "y = cancer['diagnosis']"
      ],
      "metadata": {
        "id": "5gTr-8zrLKNJ"
      },
      "execution_count": null,
      "outputs": []
    },
    {
      "cell_type": "code",
      "source": [
        "X = cancer.drop(['id','diagnosis','Unnamed: 32'],axis=1)"
      ],
      "metadata": {
        "id": "2yrMO2M4LNFf"
      },
      "execution_count": null,
      "outputs": []
    },
    {
      "cell_type": "markdown",
      "source": [
        "# ***Train Test Split***"
      ],
      "metadata": {
        "id": "MEaC8mp7TaOk"
      }
    },
    {
      "cell_type": "code",
      "source": [
        "# Step 4 : train test split\n",
        "from sklearn.model_selection import train_test_split\n",
        "X_train, X_test, y_train, y_test = train_test_split(X,y, train_size=0.7, random_state=2529)"
      ],
      "metadata": {
        "id": "BS7t4d3fLQFj"
      },
      "execution_count": null,
      "outputs": []
    },
    {
      "cell_type": "code",
      "source": [
        "# check shape of train and test sample\n",
        "X_train.shape, X_test.shape, y_train.shape, y_test.shape"
      ],
      "metadata": {
        "colab": {
          "base_uri": "https://localhost:8080/"
        },
        "id": "MZVhNDd9LV9v",
        "outputId": "6cf8530e-5cba-4e83-ee00-6d051c309e2f"
      },
      "execution_count": null,
      "outputs": [
        {
          "output_type": "execute_result",
          "data": {
            "text/plain": [
              "((398, 30), (171, 30), (398,), (171,))"
            ]
          },
          "metadata": {},
          "execution_count": 10
        }
      ]
    },
    {
      "cell_type": "markdown",
      "source": [
        "# ***Modeling***"
      ],
      "metadata": {
        "id": "tusA2x8RTiSc"
      }
    },
    {
      "cell_type": "code",
      "source": [
        "# Step 5 : select model\n",
        "from sklearn.linear_model import LogisticRegression\n",
        "model = LogisticRegression(max_iter=5000)"
      ],
      "metadata": {
        "id": "vXUdf4S3LY5-"
      },
      "execution_count": null,
      "outputs": []
    },
    {
      "cell_type": "code",
      "source": [
        "# Step 6 : train or fit model\n",
        "model.fit(X_train,y_train)"
      ],
      "metadata": {
        "colab": {
          "base_uri": "https://localhost:8080/",
          "height": 74
        },
        "id": "7nCDW1ViLdoK",
        "outputId": "3410177d-604f-4620-f185-ac29c93262a2"
      },
      "execution_count": null,
      "outputs": [
        {
          "output_type": "execute_result",
          "data": {
            "text/plain": [
              "LogisticRegression(max_iter=5000)"
            ],
            "text/html": [
              "<style>#sk-container-id-1 {color: black;}#sk-container-id-1 pre{padding: 0;}#sk-container-id-1 div.sk-toggleable {background-color: white;}#sk-container-id-1 label.sk-toggleable__label {cursor: pointer;display: block;width: 100%;margin-bottom: 0;padding: 0.3em;box-sizing: border-box;text-align: center;}#sk-container-id-1 label.sk-toggleable__label-arrow:before {content: \"▸\";float: left;margin-right: 0.25em;color: #696969;}#sk-container-id-1 label.sk-toggleable__label-arrow:hover:before {color: black;}#sk-container-id-1 div.sk-estimator:hover label.sk-toggleable__label-arrow:before {color: black;}#sk-container-id-1 div.sk-toggleable__content {max-height: 0;max-width: 0;overflow: hidden;text-align: left;background-color: #f0f8ff;}#sk-container-id-1 div.sk-toggleable__content pre {margin: 0.2em;color: black;border-radius: 0.25em;background-color: #f0f8ff;}#sk-container-id-1 input.sk-toggleable__control:checked~div.sk-toggleable__content {max-height: 200px;max-width: 100%;overflow: auto;}#sk-container-id-1 input.sk-toggleable__control:checked~label.sk-toggleable__label-arrow:before {content: \"▾\";}#sk-container-id-1 div.sk-estimator input.sk-toggleable__control:checked~label.sk-toggleable__label {background-color: #d4ebff;}#sk-container-id-1 div.sk-label input.sk-toggleable__control:checked~label.sk-toggleable__label {background-color: #d4ebff;}#sk-container-id-1 input.sk-hidden--visually {border: 0;clip: rect(1px 1px 1px 1px);clip: rect(1px, 1px, 1px, 1px);height: 1px;margin: -1px;overflow: hidden;padding: 0;position: absolute;width: 1px;}#sk-container-id-1 div.sk-estimator {font-family: monospace;background-color: #f0f8ff;border: 1px dotted black;border-radius: 0.25em;box-sizing: border-box;margin-bottom: 0.5em;}#sk-container-id-1 div.sk-estimator:hover {background-color: #d4ebff;}#sk-container-id-1 div.sk-parallel-item::after {content: \"\";width: 100%;border-bottom: 1px solid gray;flex-grow: 1;}#sk-container-id-1 div.sk-label:hover label.sk-toggleable__label {background-color: #d4ebff;}#sk-container-id-1 div.sk-serial::before {content: \"\";position: absolute;border-left: 1px solid gray;box-sizing: border-box;top: 0;bottom: 0;left: 50%;z-index: 0;}#sk-container-id-1 div.sk-serial {display: flex;flex-direction: column;align-items: center;background-color: white;padding-right: 0.2em;padding-left: 0.2em;position: relative;}#sk-container-id-1 div.sk-item {position: relative;z-index: 1;}#sk-container-id-1 div.sk-parallel {display: flex;align-items: stretch;justify-content: center;background-color: white;position: relative;}#sk-container-id-1 div.sk-item::before, #sk-container-id-1 div.sk-parallel-item::before {content: \"\";position: absolute;border-left: 1px solid gray;box-sizing: border-box;top: 0;bottom: 0;left: 50%;z-index: -1;}#sk-container-id-1 div.sk-parallel-item {display: flex;flex-direction: column;z-index: 1;position: relative;background-color: white;}#sk-container-id-1 div.sk-parallel-item:first-child::after {align-self: flex-end;width: 50%;}#sk-container-id-1 div.sk-parallel-item:last-child::after {align-self: flex-start;width: 50%;}#sk-container-id-1 div.sk-parallel-item:only-child::after {width: 0;}#sk-container-id-1 div.sk-dashed-wrapped {border: 1px dashed gray;margin: 0 0.4em 0.5em 0.4em;box-sizing: border-box;padding-bottom: 0.4em;background-color: white;}#sk-container-id-1 div.sk-label label {font-family: monospace;font-weight: bold;display: inline-block;line-height: 1.2em;}#sk-container-id-1 div.sk-label-container {text-align: center;}#sk-container-id-1 div.sk-container {/* jupyter's `normalize.less` sets `[hidden] { display: none; }` but bootstrap.min.css set `[hidden] { display: none !important; }` so we also need the `!important` here to be able to override the default hidden behavior on the sphinx rendered scikit-learn.org. See: https://github.com/scikit-learn/scikit-learn/issues/21755 */display: inline-block !important;position: relative;}#sk-container-id-1 div.sk-text-repr-fallback {display: none;}</style><div id=\"sk-container-id-1\" class=\"sk-top-container\"><div class=\"sk-text-repr-fallback\"><pre>LogisticRegression(max_iter=5000)</pre><b>In a Jupyter environment, please rerun this cell to show the HTML representation or trust the notebook. <br />On GitHub, the HTML representation is unable to render, please try loading this page with nbviewer.org.</b></div><div class=\"sk-container\" hidden><div class=\"sk-item\"><div class=\"sk-estimator sk-toggleable\"><input class=\"sk-toggleable__control sk-hidden--visually\" id=\"sk-estimator-id-1\" type=\"checkbox\" checked><label for=\"sk-estimator-id-1\" class=\"sk-toggleable__label sk-toggleable__label-arrow\">LogisticRegression</label><div class=\"sk-toggleable__content\"><pre>LogisticRegression(max_iter=5000)</pre></div></div></div></div></div>"
            ]
          },
          "metadata": {},
          "execution_count": 12
        }
      ]
    },
    {
      "cell_type": "code",
      "source": [
        "model.intercept_"
      ],
      "metadata": {
        "colab": {
          "base_uri": "https://localhost:8080/"
        },
        "id": "2sutm584LgiJ",
        "outputId": "b6adc298-a32d-4432-ec51-130df9f01c1a"
      },
      "execution_count": null,
      "outputs": [
        {
          "output_type": "execute_result",
          "data": {
            "text/plain": [
              "array([-30.20269391])"
            ]
          },
          "metadata": {},
          "execution_count": 13
        }
      ]
    },
    {
      "cell_type": "code",
      "source": [
        "model.coef_"
      ],
      "metadata": {
        "colab": {
          "base_uri": "https://localhost:8080/"
        },
        "id": "NlqDdircLgke",
        "outputId": "fb0063a8-bc69-4ce2-f215-13934fbe0f5e"
      },
      "execution_count": null,
      "outputs": [
        {
          "output_type": "execute_result",
          "data": {
            "text/plain": [
              "array([[-0.8644508 , -0.1823121 ,  0.26510852, -0.02688942,  0.13284582,\n",
              "         0.19445151,  0.40918278,  0.20206338,  0.17199488,  0.03798515,\n",
              "         0.0192444 , -1.13284188, -0.13597054,  0.11911954,  0.02266663,\n",
              "        -0.03006638,  0.04691738,  0.02805721,  0.03329433, -0.00980702,\n",
              "        -0.27140621,  0.44034405,  0.16566196,  0.01286379,  0.2719812 ,\n",
              "         0.59704539,  1.06177846,  0.40903862,  0.51193487,  0.08436947]])"
            ]
          },
          "metadata": {},
          "execution_count": 14
        }
      ]
    },
    {
      "cell_type": "code",
      "source": [
        "# Step 7 : predict model\n",
        "y_pred = model.predict(X_test)"
      ],
      "metadata": {
        "id": "y84nMrTTLmw7"
      },
      "execution_count": null,
      "outputs": []
    },
    {
      "cell_type": "code",
      "source": [
        "y_pred"
      ],
      "metadata": {
        "colab": {
          "base_uri": "https://localhost:8080/"
        },
        "id": "Xk4nRQ7sLpaK",
        "outputId": "0cbd166d-192c-4232-ec3c-9e68c4f1e704"
      },
      "execution_count": null,
      "outputs": [
        {
          "output_type": "execute_result",
          "data": {
            "text/plain": [
              "array(['B', 'M', 'M', 'B', 'M', 'B', 'M', 'B', 'M', 'B', 'B', 'M', 'B',\n",
              "       'M', 'B', 'B', 'M', 'B', 'M', 'B', 'B', 'B', 'B', 'B', 'B', 'M',\n",
              "       'B', 'B', 'M', 'B', 'M', 'B', 'B', 'B', 'B', 'M', 'B', 'B', 'B',\n",
              "       'M', 'M', 'M', 'M', 'M', 'B', 'B', 'M', 'M', 'M', 'B', 'B', 'B',\n",
              "       'B', 'B', 'B', 'B', 'B', 'M', 'M', 'M', 'B', 'M', 'B', 'M', 'M',\n",
              "       'M', 'M', 'B', 'M', 'M', 'B', 'M', 'B', 'M', 'B', 'M', 'B', 'B',\n",
              "       'M', 'M', 'M', 'B', 'B', 'M', 'M', 'M', 'B', 'B', 'B', 'B', 'M',\n",
              "       'B', 'B', 'B', 'M', 'B', 'M', 'B', 'B', 'M', 'B', 'M', 'B', 'B',\n",
              "       'B', 'M', 'B', 'B', 'M', 'B', 'B', 'B', 'M', 'B', 'B', 'B', 'B',\n",
              "       'M', 'B', 'B', 'M', 'B', 'M', 'B', 'M', 'M', 'B', 'B', 'B', 'M',\n",
              "       'M', 'B', 'M', 'M', 'M', 'B', 'B', 'M', 'B', 'M', 'B', 'M', 'B',\n",
              "       'M', 'B', 'M', 'B', 'B', 'M', 'B', 'M', 'M', 'B', 'B', 'B', 'B',\n",
              "       'B', 'M', 'M', 'M', 'M', 'B', 'B', 'B', 'M', 'B', 'M', 'B', 'B',\n",
              "       'B', 'B'], dtype=object)"
            ]
          },
          "metadata": {},
          "execution_count": 16
        }
      ]
    },
    {
      "cell_type": "markdown",
      "source": [
        "# ***Model Evaluation***"
      ],
      "metadata": {
        "id": "nxcN07KcTsap"
      }
    },
    {
      "cell_type": "code",
      "source": [
        "# Step 8 : model accuracy\n",
        "from sklearn.metrics import confusion_matrix, accuracy_score, classification_report"
      ],
      "metadata": {
        "id": "wWyh_FXBLtdm"
      },
      "execution_count": null,
      "outputs": []
    },
    {
      "cell_type": "code",
      "source": [
        "confusion_matrix(y_test,y_pred)"
      ],
      "metadata": {
        "colab": {
          "base_uri": "https://localhost:8080/"
        },
        "id": "N9msEH26LzS3",
        "outputId": "7522b00d-8e5c-4e44-ad93-5fda1a2760e2"
      },
      "execution_count": null,
      "outputs": [
        {
          "output_type": "execute_result",
          "data": {
            "text/plain": [
              "array([[97,  5],\n",
              "       [ 2, 67]])"
            ]
          },
          "metadata": {},
          "execution_count": 19
        }
      ]
    },
    {
      "cell_type": "code",
      "source": [
        "accuracy_score(y_test,y_pred)"
      ],
      "metadata": {
        "colab": {
          "base_uri": "https://localhost:8080/"
        },
        "id": "a6Q1PxLIL10V",
        "outputId": "feebd667-f3c7-433e-bf56-c7b2fcf75f6a"
      },
      "execution_count": null,
      "outputs": [
        {
          "output_type": "execute_result",
          "data": {
            "text/plain": [
              "0.9590643274853801"
            ]
          },
          "metadata": {},
          "execution_count": 20
        }
      ]
    },
    {
      "cell_type": "markdown",
      "source": [
        "# ***Prediction***"
      ],
      "metadata": {
        "id": "IEn3WGl6T3uu"
      }
    },
    {
      "cell_type": "code",
      "source": [
        "print(classification_report(y_test,y_pred))"
      ],
      "metadata": {
        "colab": {
          "base_uri": "https://localhost:8080/"
        },
        "id": "LDVxhh0AL46o",
        "outputId": "984f78e4-1067-4990-ca09-5aab09f28bac"
      },
      "execution_count": null,
      "outputs": [
        {
          "output_type": "stream",
          "name": "stdout",
          "text": [
            "              precision    recall  f1-score   support\n",
            "\n",
            "           B       0.98      0.95      0.97       102\n",
            "           M       0.93      0.97      0.95        69\n",
            "\n",
            "    accuracy                           0.96       171\n",
            "   macro avg       0.96      0.96      0.96       171\n",
            "weighted avg       0.96      0.96      0.96       171\n",
            "\n"
          ]
        }
      ]
    },
    {
      "cell_type": "markdown",
      "source": [
        "# ***Explaination***\n",
        "\n",
        "### 1. **Objective**\n",
        "\n",
        "The goal of cancer prediction is to identify individuals at risk of developing cancer or to predict the progression of cancer in diagnosed patients. Accurate predictions can lead to early intervention, personalized treatment plans, and improved outcomes.\n",
        "\n",
        "### 2. **Types of Cancer Prediction**\n",
        "\n",
        "- **Risk Prediction**: Estimating the likelihood of developing cancer based on personal and genetic factors.\n",
        "- **Progression Prediction**: Estimating how likely a cancer will progress or spread, often used for staging and treatment planning.\n",
        "- **Survival Prediction**: Predicting the likelihood of survival based on various factors, including treatment response and tumor characteristics.\n",
        "\n",
        "### 3. **Data Sources and Features**\n",
        "\n",
        "To make predictions, various data types are used:\n",
        "\n",
        "- **Patient Demographics**: Age, gender, ethnicity, and other personal characteristics.\n",
        "- **Medical History**: Previous cancer diagnoses, family history of cancer, and other health conditions.\n",
        "- **Lifestyle Factors**: Smoking status, alcohol consumption, physical activity, and diet.\n",
        "- **Clinical Data**: Information from medical imaging (CT scans, MRI), biopsy results, tumor size, and grade.\n",
        "- **Laboratory Results**: Blood tests, levels of specific biomarkers (e.g., PSA levels for prostate cancer, HER2 status for breast cancer).\n",
        "- **Genetic Information**: Presence of specific genetic mutations (e.g., BRCA1/BRCA2 for breast cancer).\n",
        "\n",
        "### 4. **Data Collection**\n",
        "\n",
        "Data can be collected from various sources:\n",
        "\n",
        "- **Medical Records**: Patient records from hospitals and clinics.\n",
        "- **Public Databases**: Databases like The Cancer Genome Atlas (TCGA) or SEER that provide large datasets for research.\n",
        "- **Clinical Trials**: Data from studies evaluating new treatments or diagnostic tools.\n",
        "\n",
        "### 5. **Data Processing and Preparation**\n",
        "\n",
        "Before using data for prediction, it needs to be processed:\n",
        "\n",
        "- **Data Cleaning**: Removing or correcting errors, handling missing values.\n",
        "- **Normalization**: Scaling features to ensure consistency.\n",
        "- **Feature Selection**: Identifying the most relevant features for prediction.\n",
        "\n",
        "### 6. **Model Development**\n",
        "\n",
        "Machine learning models are used to predict cancer risk or progression:\n",
        "\n",
        "- **Feature Engineering**: Creating new features from existing data to improve model performance.\n",
        "- **Model Training**: Using algorithms like logistic regression, decision trees, random forests, or neural networks to train the model on historical data.\n",
        "- **Model Validation**: Evaluating the model's performance using metrics like accuracy, precision, recall, and area under the curve (AUC).\n",
        "\n",
        "### 7. **Prediction and Interpretation**\n",
        "\n",
        "- **Risk Scores**: The model provides a risk score or probability indicating the likelihood of developing cancer.\n",
        "- **Risk Categories**: Patients might be categorized into risk groups (e.g., low, moderate, high) based on their prediction score.\n",
        "- **Clinical Integration**: Predictions are used alongside other clinical data to make informed decisions about patient care.\n",
        "\n",
        "### 8. **Ethical and Practical Considerations**\n",
        "\n",
        "- **Data Privacy**: Ensuring patient data is protected and used responsibly.\n",
        "- **Bias and Fairness**: Addressing potential biases in data and ensuring predictions are equitable across different populations.\n",
        "- **Clinical Validation**: Ensuring that predictive models are validated and tested in real-world settings before being used in clinical practice.\n",
        "\n",
        "### 9. **Applications in Healthcare**\n",
        "\n",
        "- **Early Screening**: Identifying individuals at high risk for early screening and preventive measures.\n",
        "- **Personalized Treatment**: Tailoring treatment plans based on predicted risk and individual characteristics.\n",
        "- **Outcome Prediction**: Informing patients and clinicians about expected outcomes and prognosis.\n",
        "\n",
        "### Example Workflow for a Cancer Prediction Model\n",
        "\n",
        "1. **Data Collection**: Gather patient data from medical records, genetic tests, and lifestyle surveys.\n",
        "2. **Data Preparation**: Clean and preprocess data, handling missing values and normalizing features.\n",
        "3. **Model Training**: Use machine learning algorithms to train a model on historical data.\n",
        "4. **Validation**: Evaluate model performance with separate test data and refine as needed.\n",
        "5. **Prediction**: Apply the model to new patient data to generate risk scores.\n",
        "6. **Clinical Use**: Integrate predictions into patient care plans and monitor outcomes.\n",
        "\n",
        "By leveraging diverse data sources and advanced analytics, cancer prediction models aim to enhance early detection, improve patient outcomes, and optimize treatment strategies."
      ],
      "metadata": {
        "id": "AKAhRFevT6lp"
      }
    }
  ]
}